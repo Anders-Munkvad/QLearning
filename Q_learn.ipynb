{
 "cells": [
  {
   "cell_type": "code",
   "execution_count": null,
   "metadata": {},
   "outputs": [],
   "source": [
    "\"\"\"\n",
    "Env: Whatever currency we are trading.\n",
    "Actions: Buy, sell, hold (Do nothing). -- There could potentially be more in the future\n",
    "State: Price, volume and volatility data. -- There could potentially be more in the future\n",
    "Reward: Next period returns based on the action chosen and final return of the portfolio.\n",
    "\n",
    "\n",
    "Se på den aflevering hvor vi skulle lande en drone eller et eller andet (assignement 4)\n",
    "\n",
    "\"\"\""
   ]
  },
  {
   "cell_type": "code",
   "execution_count": 1,
   "metadata": {},
   "outputs": [],
   "source": [
    "#Parameters:\n",
    "\n",
    "initial_cap = 10000 # Initial investering (testing)\n",
    "\n",
    "halt = False # Flag to stop trading if it falls bellow 30% of initial amount \n",
    "\n",
    "investing_cap = 0.20 * initial_cap # We can invest 20% of our current capital (initial cap now)\n",
    "\n",
    "action_space = 3"
   ]
  }
 ],
 "metadata": {
  "kernelspec": {
   "display_name": "Python 3",
   "language": "python",
   "name": "python3"
  },
  "language_info": {
   "codemirror_mode": {
    "name": "ipython",
    "version": 3
   },
   "file_extension": ".py",
   "mimetype": "text/x-python",
   "name": "python",
   "nbconvert_exporter": "python",
   "pygments_lexer": "ipython3",
   "version": "3.12.0"
  }
 },
 "nbformat": 4,
 "nbformat_minor": 2
}
